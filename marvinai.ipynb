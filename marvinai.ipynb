{
 "cells": [
  {
   "cell_type": "markdown",
   "metadata": {},
   "source": [
    "---\n",
    "title: \"Making Large Language Models produce structured output using Guardrails AI\"\n",
    "jupyter: python3\n",
    "format:\n",
    "  html:\n",
    "    code-overflow: wrap\n",
    "filters:\n",
    "  - line-highlight\n",
    "---"
   ]
  },
  {
   "cell_type": "code",
   "execution_count": 66,
   "metadata": {},
   "outputs": [],
   "source": [
    "from textwrap import TextWrapper\n",
    "\n",
    "wrapper = TextWrapper(width=80)"
   ]
  },
  {
   "cell_type": "code",
   "execution_count": 51,
   "metadata": {},
   "outputs": [],
   "source": [
    "import openai"
   ]
  },
  {
   "cell_type": "markdown",
   "metadata": {},
   "source": [
    "## Language Models are hard to configure and control"
   ]
  },
  {
   "cell_type": "markdown",
   "metadata": {},
   "source": [
    "## AskMarvin AI deep dive\n",
    "\n",
    "### AI functions, AI models, AI pipelines"
   ]
  },
  {
   "cell_type": "markdown",
   "metadata": {},
   "source": [
    "### Relying on function_call"
   ]
  },
  {
   "cell_type": "markdown",
   "metadata": {},
   "source": [
    "### Weaknesses of AskMarvin AI approach"
   ]
  },
  {
   "cell_type": "markdown",
   "metadata": {},
   "source": [
    "### Strengths of AskMarvin AI approach\n",
    "\n",
    "- Inheriting validators from pydantic models would be nice but support for it is still lacking.\n",
    "- Using different models to perform correction\n"
   ]
  }
 ],
 "metadata": {
  "kernelspec": {
   "display_name": "structured-output-llm-py310",
   "language": "python",
   "name": "python3"
  },
  "language_info": {
   "codemirror_mode": {
    "name": "ipython",
    "version": 3
   },
   "file_extension": ".py",
   "mimetype": "text/x-python",
   "name": "python",
   "nbconvert_exporter": "python",
   "pygments_lexer": "ipython3",
   "version": "3.10.8"
  }
 },
 "nbformat": 4,
 "nbformat_minor": 2
}
